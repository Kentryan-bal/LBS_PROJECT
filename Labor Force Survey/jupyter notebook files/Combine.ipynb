{
 "cells": [
  {
   "cell_type": "code",
   "execution_count": 1,
   "id": "85105d06-8340-4522-9d09-916e190048da",
   "metadata": {},
   "outputs": [],
   "source": [
    "import pandas as pd\n",
    "import numpy as np\n",
    "import os, glob"
   ]
  },
  {
   "cell_type": "markdown",
   "id": "0d59b9e8-bfac-4feb-b853-797690c5e98f",
   "metadata": {},
   "source": [
    "# Combining CSV files"
   ]
  },
  {
   "cell_type": "code",
   "execution_count": 3,
   "id": "39184162-4cf2-4a33-813a-ff304c3833cd",
   "metadata": {},
   "outputs": [],
   "source": [
    "path = \"/Users/kentbaluyot/Desktop/Labor Force Survey/monthly lfs\""
   ]
  },
  {
   "cell_type": "code",
   "execution_count": 4,
   "id": "a21a3b73-0210-4383-a013-543989f96cc0",
   "metadata": {},
   "outputs": [],
   "source": [
    "all_files = glob.glob(os.path.join(path, \"lfs_*.csv\"))\n",
    "df_from_each_file = (pd.read_csv(f, sep=',') for f in all_files)\n",
    "df_merged   = pd.concat(df_from_each_file, ignore_index=True)\n",
    "df_merged.to_csv(\"LFS_march2324.csv\", index=False)"
   ]
  }
 ],
 "metadata": {
  "kernelspec": {
   "display_name": "Python [conda env:base] *",
   "language": "python",
   "name": "conda-base-py"
  },
  "language_info": {
   "codemirror_mode": {
    "name": "ipython",
    "version": 3
   },
   "file_extension": ".py",
   "mimetype": "text/x-python",
   "name": "python",
   "nbconvert_exporter": "python",
   "pygments_lexer": "ipython3",
   "version": "3.11.7"
  }
 },
 "nbformat": 4,
 "nbformat_minor": 5
}
